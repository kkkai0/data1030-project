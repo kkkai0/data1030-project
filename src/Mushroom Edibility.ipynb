{
 "cells": [
  {
   "cell_type": "code",
   "execution_count": 1,
   "id": "68634d43-03ed-498f-8d2c-241dc7cb8201",
   "metadata": {},
   "outputs": [],
   "source": [
    "import pandas as pd\n",
    "import numpy as np\n",
    "import matplotlib\n",
    "from matplotlib import pylab as plt"
   ]
  },
  {
   "cell_type": "code",
   "execution_count": 2,
   "id": "eb8353af-ac32-4b17-91e7-bc60587e6997",
   "metadata": {},
   "outputs": [
    {
     "name": "stdout",
     "output_type": "stream",
     "text": [
      "      class  cap-diameter cap-shape cap-surface cap-color  \\\n",
      "0         p         15.26         x           g         o   \n",
      "1         p         16.60         x           g         o   \n",
      "2         p         14.07         x           g         o   \n",
      "3         p         14.17         f           h         e   \n",
      "4         p         14.64         x           h         o   \n",
      "...     ...           ...       ...         ...       ...   \n",
      "61064     p          1.18         s           s         y   \n",
      "61065     p          1.27         f           s         y   \n",
      "61066     p          1.27         s           s         y   \n",
      "61067     p          1.24         f           s         y   \n",
      "61068     p          1.17         s           s         y   \n",
      "\n",
      "      does-bruise-or-bleed gill-attachment gill-spacing gill-color  \\\n",
      "0                        f               e          NaN          w   \n",
      "1                        f               e          NaN          w   \n",
      "2                        f               e          NaN          w   \n",
      "3                        f               e          NaN          w   \n",
      "4                        f               e          NaN          w   \n",
      "...                    ...             ...          ...        ...   \n",
      "61064                    f               f            f          f   \n",
      "61065                    f               f            f          f   \n",
      "61066                    f               f            f          f   \n",
      "61067                    f               f            f          f   \n",
      "61068                    f               f            f          f   \n",
      "\n",
      "       stem-height  ...  stem-root stem-surface stem-color veil-type  \\\n",
      "0            16.95  ...          s            y          w         u   \n",
      "1            17.99  ...          s            y          w         u   \n",
      "2            17.80  ...          s            y          w         u   \n",
      "3            15.77  ...          s            y          w         u   \n",
      "4            16.53  ...          s            y          w         u   \n",
      "...            ...  ...        ...          ...        ...       ...   \n",
      "61064         3.93  ...        NaN          NaN          y       NaN   \n",
      "61065         3.18  ...        NaN          NaN          y       NaN   \n",
      "61066         3.86  ...        NaN          NaN          y       NaN   \n",
      "61067         3.56  ...        NaN          NaN          y       NaN   \n",
      "61068         3.25  ...        NaN          NaN          y       NaN   \n",
      "\n",
      "      veil-color has-ring ring-type spore-print-color habitat season  \n",
      "0              w        t         g               NaN       d      w  \n",
      "1              w        t         g               NaN       d      u  \n",
      "2              w        t         g               NaN       d      w  \n",
      "3              w        t         p               NaN       d      w  \n",
      "4              w        t         p               NaN       d      w  \n",
      "...          ...      ...       ...               ...     ...    ...  \n",
      "61064        NaN        f         f               NaN       d      a  \n",
      "61065        NaN        f         f               NaN       d      a  \n",
      "61066        NaN        f         f               NaN       d      u  \n",
      "61067        NaN        f         f               NaN       d      u  \n",
      "61068        NaN        f         f               NaN       d      u  \n",
      "\n",
      "[61069 rows x 21 columns]\n"
     ]
    }
   ],
   "source": [
    "df=pd.read_csv('data/secondary_data.csv',sep=';')\n",
    "print(df)"
   ]
  },
  {
   "cell_type": "code",
   "execution_count": 3,
   "id": "e7b4142f-956a-4cc4-8e7f-e71a2341d43f",
   "metadata": {},
   "outputs": [
    {
     "name": "stdout",
     "output_type": "stream",
     "text": [
      "<class 'pandas.core.frame.DataFrame'>\n",
      "RangeIndex: 61069 entries, 0 to 61068\n",
      "Data columns (total 21 columns):\n",
      " #   Column                Non-Null Count  Dtype  \n",
      "---  ------                --------------  -----  \n",
      " 0   class                 61069 non-null  object \n",
      " 1   cap-diameter          61069 non-null  float64\n",
      " 2   cap-shape             61069 non-null  object \n",
      " 3   cap-surface           46949 non-null  object \n",
      " 4   cap-color             61069 non-null  object \n",
      " 5   does-bruise-or-bleed  61069 non-null  object \n",
      " 6   gill-attachment       51185 non-null  object \n",
      " 7   gill-spacing          36006 non-null  object \n",
      " 8   gill-color            61069 non-null  object \n",
      " 9   stem-height           61069 non-null  float64\n",
      " 10  stem-width            61069 non-null  float64\n",
      " 11  stem-root             9531 non-null   object \n",
      " 12  stem-surface          22945 non-null  object \n",
      " 13  stem-color            61069 non-null  object \n",
      " 14  veil-type             3177 non-null   object \n",
      " 15  veil-color            7413 non-null   object \n",
      " 16  has-ring              61069 non-null  object \n",
      " 17  ring-type             58598 non-null  object \n",
      " 18  spore-print-color     6354 non-null   object \n",
      " 19  habitat               61069 non-null  object \n",
      " 20  season                61069 non-null  object \n",
      "dtypes: float64(3), object(18)\n",
      "memory usage: 9.8+ MB\n"
     ]
    }
   ],
   "source": [
    "df.info()"
   ]
  },
  {
   "cell_type": "code",
   "execution_count": 4,
   "id": "425deb57-28ea-46fa-940f-2990b2147106",
   "metadata": {},
   "outputs": [
    {
     "data": {
      "text/plain": [
       "class                    object\n",
       "cap-diameter            float64\n",
       "cap-shape                object\n",
       "cap-surface              object\n",
       "cap-color                object\n",
       "does-bruise-or-bleed     object\n",
       "gill-attachment          object\n",
       "gill-spacing             object\n",
       "gill-color               object\n",
       "stem-height             float64\n",
       "stem-width              float64\n",
       "stem-root                object\n",
       "stem-surface             object\n",
       "stem-color               object\n",
       "veil-type                object\n",
       "veil-color               object\n",
       "has-ring                 object\n",
       "ring-type                object\n",
       "spore-print-color        object\n",
       "habitat                  object\n",
       "season                   object\n",
       "dtype: object"
      ]
     },
     "execution_count": 4,
     "metadata": {},
     "output_type": "execute_result"
    }
   ],
   "source": [
    "df.dtypes"
   ]
  },
  {
   "cell_type": "code",
   "execution_count": 5,
   "id": "bb9e99ae-87b4-440d-9765-0bc7ecbc92a5",
   "metadata": {},
   "outputs": [
    {
     "data": {
      "text/html": [
       "<div>\n",
       "<style scoped>\n",
       "    .dataframe tbody tr th:only-of-type {\n",
       "        vertical-align: middle;\n",
       "    }\n",
       "\n",
       "    .dataframe tbody tr th {\n",
       "        vertical-align: top;\n",
       "    }\n",
       "\n",
       "    .dataframe thead th {\n",
       "        text-align: right;\n",
       "    }\n",
       "</style>\n",
       "<table border=\"1\" class=\"dataframe\">\n",
       "  <thead>\n",
       "    <tr style=\"text-align: right;\">\n",
       "      <th></th>\n",
       "      <th>cap-diameter</th>\n",
       "      <th>stem-height</th>\n",
       "      <th>stem-width</th>\n",
       "    </tr>\n",
       "  </thead>\n",
       "  <tbody>\n",
       "    <tr>\n",
       "      <th>count</th>\n",
       "      <td>61069.000000</td>\n",
       "      <td>61069.000000</td>\n",
       "      <td>61069.000000</td>\n",
       "    </tr>\n",
       "    <tr>\n",
       "      <th>mean</th>\n",
       "      <td>6.733854</td>\n",
       "      <td>6.581538</td>\n",
       "      <td>12.149410</td>\n",
       "    </tr>\n",
       "    <tr>\n",
       "      <th>std</th>\n",
       "      <td>5.264845</td>\n",
       "      <td>3.370017</td>\n",
       "      <td>10.035955</td>\n",
       "    </tr>\n",
       "    <tr>\n",
       "      <th>min</th>\n",
       "      <td>0.380000</td>\n",
       "      <td>0.000000</td>\n",
       "      <td>0.000000</td>\n",
       "    </tr>\n",
       "    <tr>\n",
       "      <th>25%</th>\n",
       "      <td>3.480000</td>\n",
       "      <td>4.640000</td>\n",
       "      <td>5.210000</td>\n",
       "    </tr>\n",
       "    <tr>\n",
       "      <th>50%</th>\n",
       "      <td>5.860000</td>\n",
       "      <td>5.950000</td>\n",
       "      <td>10.190000</td>\n",
       "    </tr>\n",
       "    <tr>\n",
       "      <th>75%</th>\n",
       "      <td>8.540000</td>\n",
       "      <td>7.740000</td>\n",
       "      <td>16.570000</td>\n",
       "    </tr>\n",
       "    <tr>\n",
       "      <th>max</th>\n",
       "      <td>62.340000</td>\n",
       "      <td>33.920000</td>\n",
       "      <td>103.910000</td>\n",
       "    </tr>\n",
       "  </tbody>\n",
       "</table>\n",
       "</div>"
      ],
      "text/plain": [
       "       cap-diameter   stem-height    stem-width\n",
       "count  61069.000000  61069.000000  61069.000000\n",
       "mean       6.733854      6.581538     12.149410\n",
       "std        5.264845      3.370017     10.035955\n",
       "min        0.380000      0.000000      0.000000\n",
       "25%        3.480000      4.640000      5.210000\n",
       "50%        5.860000      5.950000     10.190000\n",
       "75%        8.540000      7.740000     16.570000\n",
       "max       62.340000     33.920000    103.910000"
      ]
     },
     "execution_count": 5,
     "metadata": {},
     "output_type": "execute_result"
    }
   ],
   "source": [
    "df.describe()"
   ]
  },
  {
   "cell_type": "code",
   "execution_count": 4,
   "id": "2970a8f6-d3ee-4284-9418-8be40ac94ea2",
   "metadata": {},
   "outputs": [
    {
     "data": {
      "image/png": "[encoded data removed]",
      "text/plain": [
       "<Figure size 600x400 with 1 Axes>"
      ]
     },
     "metadata": {},
     "output_type": "display_data"
    }
   ],
   "source": [
    "plt.figure(figsize=(6,4))\n",
    "pd.value_counts(df['class']).plot.bar()\n",
    "plt.xlabel('class')\n",
    "plt.ylabel('count')\n",
    "plt.xticks(rotation=0)\n",
    "plt.title('Mushroom edibility')\n",
    "plt.savefig('Target',dpi=300)"
   ]
  },
  {
   "cell_type": "code",
   "execution_count": 7,
   "id": "12e96b59-26cc-49cc-8446-5f38c8ed975f",
   "metadata": {},
   "outputs": [
    {
     "data": {
      "text/plain": [
       "class                       0\n",
       "cap-diameter                0\n",
       "cap-shape                   0\n",
       "cap-surface             14120\n",
       "cap-color                   0\n",
       "does-bruise-or-bleed        0\n",
       "gill-attachment          9884\n",
       "gill-spacing            25063\n",
       "gill-color                  0\n",
       "stem-height                 0\n",
       "stem-width                  0\n",
       "stem-root               51538\n",
       "stem-surface            38124\n",
       "stem-color                  0\n",
       "veil-type               57892\n",
       "veil-color              53656\n",
       "has-ring                    0\n",
       "ring-type                2471\n",
       "spore-print-color       54715\n",
       "habitat                     0\n",
       "season                      0\n",
       "dtype: int64"
      ]
     },
     "execution_count": 7,
     "metadata": {},
     "output_type": "execute_result"
    }
   ],
   "source": [
    "df.isnull().sum()"
   ]
  },
  {
   "cell_type": "code",
   "execution_count": 5,
   "id": "1e90385e-1fed-488d-b72d-4c2574e267e8",
   "metadata": {},
   "outputs": [],
   "source": [
    "import seaborn as sns \n",
    "sns.set_palette(sns.color_palette(['cornflowerblue','darkorange']))"
   ]
  },
  {
   "cell_type": "code",
   "execution_count": 7,
   "id": "f95aa368-bad7-4fbf-a589-9e4a22a1cc42",
   "metadata": {},
   "outputs": [],
   "source": [
    "plt.figure(figsize=(6,4))\n",
    "\n",
    "df['cap-diameter'].plot.hist(bins=20) \n",
    "plt.xlabel('cap-diameter')\n",
    "plt.ylabel('count')\n",
    "plt.savefig('cap-diameter',dpi=300)\n",
    "plt.close()"
   ]
  },
  {
   "cell_type": "code",
   "execution_count": 10,
   "id": "66b9c687-90d2-4827-8260-279a8e8665e0",
   "metadata": {},
   "outputs": [],
   "source": [
    "f, ax = plt.subplots(figsize=(6,4))\n",
    "x_capdia=df[df['cap-diameter']<25]\n",
    "sns.histplot(x='cap-diameter', data = x_capdia, hue='class')\n",
    "plt.savefig('cap-diameter1',dpi=300)\n",
    "plt.close()"
   ]
  },
  {
   "cell_type": "code",
   "execution_count": 9,
   "id": "d550bee7-7c04-4b54-b49c-734f244fe0ad",
   "metadata": {},
   "outputs": [],
   "source": [
    "f, ax = plt.subplots(figsize=(6,4))\n",
    "sns.histplot(x='stem-height', data = df, hue='class')\n",
    "plt.savefig('cap-diameter',dpi=300)\n",
    "plt.close()"
   ]
  },
  {
   "cell_type": "code",
   "execution_count": 12,
   "id": "86d4a058-cef0-4bff-95a5-8e474af9adc5",
   "metadata": {},
   "outputs": [],
   "source": [
    "f, ax = plt.subplots(figsize=(6,4))\n",
    "sns.histplot(x='stem-width', data = df, hue='class')\n",
    "plt.savefig('width',dpi=300)\n",
    "plt.close()"
   ]
  },
  {
   "cell_type": "code",
   "execution_count": 13,
   "id": "d4b0e57d-3731-4552-8f1b-942b03ec8454",
   "metadata": {},
   "outputs": [],
   "source": [
    "count_matrix = df.groupby(['cap-shape', 'class']).size().unstack()\n",
    "count_matrix_norm = count_matrix.div(count_matrix.sum(axis=1),axis=0)\n",
    "count_matrix_norm.plot(kind='bar', stacked=True,figsize=(6,4))\n",
    "plt.xticks(rotation=0)\n",
    "plt.ylabel('fraction of cap-shape in group')\n",
    "plt.legend(loc=4)\n",
    "plt.savefig('cap-shape',dpi=300)\n",
    "plt.close()"
   ]
  },
  {
   "cell_type": "code",
   "execution_count": 14,
   "id": "4659a528-2cbb-4b0a-be58-29e7dadab1ac",
   "metadata": {},
   "outputs": [
    {
     "data": {
      "image/png": "[encoded data removed]",
      "text/plain": [
       "<Figure size 600x400 with 1 Axes>"
      ]
     },
     "metadata": {},
     "output_type": "display_data"
    }
   ],
   "source": [
    "count_matrix = df.groupby(['gill-color', 'class']).size().unstack()\n",
    "count_matrix_norm = count_matrix.div(count_matrix.sum(axis=1),axis=0)\n",
    "count_matrix_norm.plot(kind='bar', stacked=True,figsize=(6,4))\n",
    "plt.xticks(rotation=0)\n",
    "plt.ylabel('fraction of gill-color in group')\n",
    "plt.legend(loc=4)\n",
    "plt.show()"
   ]
  },
  {
   "cell_type": "code",
   "execution_count": 14,
   "id": "2b3fd84e-08b6-4db2-8a1d-19212b3fe36a",
   "metadata": {},
   "outputs": [],
   "source": [
    "count_matrix = df.groupby(['season', 'class']).size().unstack()\n",
    "count_matrix_norm = count_matrix.div(count_matrix.sum(axis=1),axis=0)\n",
    "count_matrix_norm.plot(kind='bar', stacked=True,figsize=(6,4))\n",
    "plt.xticks(rotation=0)\n",
    "plt.ylabel('fraction of season in group')\n",
    "plt.legend(loc=4)\n",
    "plt.savefig('season',dpi=300)\n",
    "plt.close()"
   ]
  },
  {
   "cell_type": "code",
   "execution_count": 3,
   "id": "9209d499-79f4-449d-bb74-e66a98e8bbef",
   "metadata": {},
   "outputs": [],
   "source": [
    "dataset = [df[df['class']=='p']['cap-diameter'].values,\n",
    "           df[df['class']=='e']['cap-diameter'].values]\n",
    "\n",
    "plt.figure(figsize=(5,4))\n",
    "\n",
    "plt.violinplot(dataset = dataset)\n",
    "plt.xticks([1,2],['p','e'])\n",
    "plt.ylabel('cap-diameter')\n",
    "plt.savefig('EDA1.png', dpi=300)\n",
    "plt.close()"
   ]
  },
  {
   "cell_type": "code",
   "execution_count": 4,
   "id": "2ed658cb-5e66-49c2-b4c4-299390660935",
   "metadata": {},
   "outputs": [],
   "source": [
    "dataset = [df[df['class']=='p']['stem-height'].values,\n",
    "           df[df['class']=='e']['stem-height'].values]\n",
    "\n",
    "plt.figure(figsize=(5,4))\n",
    "\n",
    "plt.violinplot(dataset = dataset)\n",
    "plt.xticks([1,2],['p','e'])\n",
    "plt.ylabel('stem-height')\n",
    "plt.savefig('EDA2.png', dpi=300)\n",
    "plt.close()"
   ]
  },
  {
   "cell_type": "code",
   "execution_count": 5,
   "id": "b05320db-23b8-41c8-8f3f-040d5e5f15d9",
   "metadata": {},
   "outputs": [],
   "source": [
    "dataset = [df[df['class']=='p']['stem-width'].values,\n",
    "           df[df['class']=='e']['stem-width'].values]\n",
    "\n",
    "plt.figure(figsize=(5,4))\n",
    "\n",
    "plt.violinplot(dataset = dataset)\n",
    "plt.xticks([1,2],['p','e'])\n",
    "plt.ylabel('stem-width')\n",
    "plt.savefig('EDA3.png', dpi=300)\n",
    "plt.close()"
   ]
  },
  {
   "cell_type": "code",
   "execution_count": 3,
   "id": "f646e151-0b6e-48d2-a5c3-500ff5bf6860",
   "metadata": {},
   "outputs": [
    {
     "name": "stdout",
     "output_type": "stream",
     "text": [
      "class\n",
      "p    33888\n",
      "e    27181\n",
      "Name: count, dtype: int64\n"
     ]
    }
   ],
   "source": [
    "y=df['class']\n",
    "print(y.value_counts())"
   ]
  },
  {
   "cell_type": "code",
   "execution_count": 4,
   "id": "9d790e1a-1bbd-43bb-b0f4-ac6a6363cd4c",
   "metadata": {},
   "outputs": [],
   "source": [
    "X=df.drop(columns=['class'])"
   ]
  },
  {
   "cell_type": "code",
   "execution_count": 34,
   "id": "0368d4ef-7093-4c87-881e-e39c28d16efe",
   "metadata": {},
   "outputs": [
    {
     "name": "stdout",
     "output_type": "stream",
     "text": [
      "training set of y: (array(['e', 'p'], dtype=object), array([16260, 20381], dtype=int64))\n",
      "validation set of y: (array(['e', 'p'], dtype=object), array([5404, 6810], dtype=int64))\n",
      "test set of y: (array(['e', 'p'], dtype=object), array([5517, 6697], dtype=int64))\n",
      "training set of X: (36641, 20)\n",
      "validation set of X: (12214, 20)\n",
      "test set of X: (12214, 20)\n"
     ]
    }
   ],
   "source": [
    "from sklearn.model_selection import train_test_split\n",
    "\n",
    "X=df.drop(columns=['class'])\n",
    "\n",
    "random_state = 4\n",
    "X_train, X_other, y_train, y_other = train_test_split(X,y,train_size = 0.6,random_state=random_state)\n",
    "X_val, X_test, y_val, y_test = train_test_split(X_other,y_other,train_size = 0.5,random_state=random_state)\n",
    "\n",
    "print('training set of y:',np.unique(y_train,return_counts=True))\n",
    "print('validation set of y:',np.unique(y_val,return_counts=True))\n",
    "print('test set of y:',np.unique(y_test,return_counts=True))\n",
    "\n",
    "print('training set of X:',X_train.shape)\n",
    "print('validation set of X:',X_val.shape)\n",
    "print('test set of X:',X_test.shape)"
   ]
  },
  {
   "cell_type": "code",
   "execution_count": 21,
   "id": "e9ae221c-a510-44e2-b165-e3ac36da171e",
   "metadata": {},
   "outputs": [
    {
     "name": "stdout",
     "output_type": "stream",
     "text": [
      "data dimensions: (61069, 21)\n",
      "fraction of missing values in features:\n",
      "cap-surface          0.231214\n",
      "gill-attachment      0.161850\n",
      "gill-spacing         0.410405\n",
      "stem-root            0.843931\n",
      "stem-surface         0.624277\n",
      "veil-type            0.947977\n",
      "veil-color           0.878613\n",
      "ring-type            0.040462\n",
      "spore-print-color    0.895954\n",
      "dtype: float64\n",
      "data types of the features with missing values:\n",
      "cap-surface          object\n",
      "gill-attachment      object\n",
      "gill-spacing         object\n",
      "stem-root            object\n",
      "stem-surface         object\n",
      "veil-type            object\n",
      "veil-color           object\n",
      "ring-type            object\n",
      "spore-print-color    object\n",
      "dtype: object\n",
      "fraction of points with missing values: 1.0\n"
     ]
    }
   ],
   "source": [
    "print('data dimensions:',df.shape)\n",
    "perc_missing_per_ftr = df.isnull().sum(axis=0)/df.shape[0]\n",
    "print('fraction of missing values in features:')\n",
    "print(perc_missing_per_ftr[perc_missing_per_ftr > 0])\n",
    "print('data types of the features with missing values:')\n",
    "print(df[perc_missing_per_ftr[perc_missing_per_ftr > 0].index].dtypes)\n",
    "frac_missing = sum(df.isnull().sum(axis=1)!=0)/df.shape[0]\n",
    "print('fraction of points with missing values:',frac_missing)"
   ]
  },
  {
   "cell_type": "code",
   "execution_count": 35,
   "id": "8fec7e49-bac5-4d58-ba3f-c800b9c70afb",
   "metadata": {},
   "outputs": [
    {
     "name": "stdout",
     "output_type": "stream",
     "text": [
      "Before preprocessing: (61069, 20)\n",
      "After preprocessing:\n",
      "(36641, 128)\n",
      "(12214, 128)\n",
      "(12214, 128)\n",
      "['num__cap-diameter' 'num__stem-height' 'num__stem-width'\n",
      " 'cat__cap-shape_b' 'cat__cap-shape_c' 'cat__cap-shape_f'\n",
      " 'cat__cap-shape_o' 'cat__cap-shape_p' 'cat__cap-shape_s'\n",
      " 'cat__cap-shape_x' 'cat__cap-surface_d' 'cat__cap-surface_e'\n",
      " 'cat__cap-surface_g' 'cat__cap-surface_h' 'cat__cap-surface_i'\n",
      " 'cat__cap-surface_k' 'cat__cap-surface_l' 'cat__cap-surface_missing'\n",
      " 'cat__cap-surface_s' 'cat__cap-surface_t' 'cat__cap-surface_w'\n",
      " 'cat__cap-surface_y' 'cat__cap-color_b' 'cat__cap-color_e'\n",
      " 'cat__cap-color_g' 'cat__cap-color_k' 'cat__cap-color_l'\n",
      " 'cat__cap-color_n' 'cat__cap-color_o' 'cat__cap-color_p'\n",
      " 'cat__cap-color_r' 'cat__cap-color_u' 'cat__cap-color_w'\n",
      " 'cat__cap-color_y' 'cat__does-bruise-or-bleed_f'\n",
      " 'cat__does-bruise-or-bleed_t' 'cat__gill-attachment_a'\n",
      " 'cat__gill-attachment_d' 'cat__gill-attachment_e'\n",
      " 'cat__gill-attachment_f' 'cat__gill-attachment_missing'\n",
      " 'cat__gill-attachment_p' 'cat__gill-attachment_s'\n",
      " 'cat__gill-attachment_x' 'cat__gill-spacing_c' 'cat__gill-spacing_d'\n",
      " 'cat__gill-spacing_f' 'cat__gill-spacing_missing' 'cat__gill-color_b'\n",
      " 'cat__gill-color_e' 'cat__gill-color_f' 'cat__gill-color_g'\n",
      " 'cat__gill-color_k' 'cat__gill-color_n' 'cat__gill-color_o'\n",
      " 'cat__gill-color_p' 'cat__gill-color_r' 'cat__gill-color_u'\n",
      " 'cat__gill-color_w' 'cat__gill-color_y' 'cat__stem-root_b'\n",
      " 'cat__stem-root_c' 'cat__stem-root_f' 'cat__stem-root_missing'\n",
      " 'cat__stem-root_r' 'cat__stem-root_s' 'cat__stem-surface_f'\n",
      " 'cat__stem-surface_g' 'cat__stem-surface_h' 'cat__stem-surface_i'\n",
      " 'cat__stem-surface_k' 'cat__stem-surface_missing' 'cat__stem-surface_s'\n",
      " 'cat__stem-surface_t' 'cat__stem-surface_y' 'cat__stem-color_b'\n",
      " 'cat__stem-color_e' 'cat__stem-color_f' 'cat__stem-color_g'\n",
      " 'cat__stem-color_k' 'cat__stem-color_l' 'cat__stem-color_n'\n",
      " 'cat__stem-color_o' 'cat__stem-color_p' 'cat__stem-color_r'\n",
      " 'cat__stem-color_u' 'cat__stem-color_w' 'cat__stem-color_y'\n",
      " 'cat__veil-type_missing' 'cat__veil-type_u' 'cat__veil-color_e'\n",
      " 'cat__veil-color_k' 'cat__veil-color_missing' 'cat__veil-color_n'\n",
      " 'cat__veil-color_u' 'cat__veil-color_w' 'cat__veil-color_y'\n",
      " 'cat__has-ring_f' 'cat__has-ring_t' 'cat__ring-type_e' 'cat__ring-type_f'\n",
      " 'cat__ring-type_g' 'cat__ring-type_l' 'cat__ring-type_m'\n",
      " 'cat__ring-type_missing' 'cat__ring-type_p' 'cat__ring-type_r'\n",
      " 'cat__ring-type_z' 'cat__spore-print-color_g' 'cat__spore-print-color_k'\n",
      " 'cat__spore-print-color_missing' 'cat__spore-print-color_n'\n",
      " 'cat__spore-print-color_p' 'cat__spore-print-color_r'\n",
      " 'cat__spore-print-color_u' 'cat__spore-print-color_w' 'cat__habitat_d'\n",
      " 'cat__habitat_g' 'cat__habitat_h' 'cat__habitat_l' 'cat__habitat_m'\n",
      " 'cat__habitat_p' 'cat__habitat_u' 'cat__habitat_w' 'cat__season_a'\n",
      " 'cat__season_s' 'cat__season_u' 'cat__season_w']\n"
     ]
    }
   ],
   "source": [
    "from sklearn.compose import ColumnTransformer\n",
    "from sklearn.pipeline import Pipeline\n",
    "from sklearn.preprocessing import OneHotEncoder\n",
    "from sklearn.preprocessing import StandardScaler\n",
    "from sklearn.impute import SimpleImputer\n",
    "from sklearn.experimental import enable_iterative_imputer\n",
    "from sklearn.impute import IterativeImputer\n",
    "\n",
    "print('Before preprocessing:',X.shape)\n",
    "\n",
    "random_state = 42\n",
    "cat_ftrs = X.drop(columns=['cap-diameter', 'stem-height', 'stem-width']).columns\n",
    "num_ftrs=['cap-diameter', 'stem-height', 'stem-width']\n",
    "\n",
    "categorical_transformer = Pipeline(steps=[\n",
    "    ('imputer', SimpleImputer(strategy='constant',fill_value='missing')),\n",
    "    ('onehot', OneHotEncoder(sparse_output=False,handle_unknown='ignore'))])\n",
    "numeric_transformer = Pipeline(steps=[('scaler', StandardScaler())])\n",
    "\n",
    "preprocessor = ColumnTransformer(\n",
    "    transformers=[\n",
    "        ('num', numeric_transformer, num_ftrs),\n",
    "        ('cat', categorical_transformer, cat_ftrs)])\n",
    "\n",
    "X_prep = preprocessor.fit_transform(X_train)\n",
    "# the feature names after fit\n",
    "feature_names = preprocessor.get_feature_names_out()\n",
    "\n",
    "df_train = pd.DataFrame(data=X_prep,columns=feature_names)\n",
    "print('After preprocessing:')\n",
    "print(df_train.shape)\n",
    "\n",
    "# transform the val\n",
    "df_val = preprocessor.transform(X_val)\n",
    "df_val = pd.DataFrame(data=df_val,columns = feature_names)\n",
    "print(df_val.shape)\n",
    "\n",
    "# transform the test\n",
    "df_test = preprocessor.transform(X_test)\n",
    "df_test = pd.DataFrame(data=df_test,columns = feature_names)\n",
    "print(df_test.shape)\n",
    "print(feature_names)"
   ]
  },
  {
   "cell_type": "code",
   "execution_count": 24,
   "id": "9961f467-49ce-4e62-907b-353de0ac8d6a",
   "metadata": {},
   "outputs": [
    {
     "name": "stdout",
     "output_type": "stream",
     "text": [
      "num__cap-diameter    0\n",
      "num__stem-height     0\n",
      "num__stem-width      0\n",
      "cat__cap-shape_b     0\n",
      "cat__cap-shape_c     0\n",
      "                    ..\n",
      "cat__habitat_w       0\n",
      "cat__season_a        0\n",
      "cat__season_s        0\n",
      "cat__season_u        0\n",
      "cat__season_w        0\n",
      "Length: 128, dtype: int64\n"
     ]
    }
   ],
   "source": [
    "df_prep=pd.concat([df_train,df_val,df_test])\n",
    "print(df_prep.isnull().sum())"
   ]
  },
  {
   "cell_type": "code",
   "execution_count": 25,
   "id": "56fa20db-f286-4fc8-8191-625c74ab220f",
   "metadata": {},
   "outputs": [
    {
     "data": {
      "text/html": [
       "<div>\n",
       "<style scoped>\n",
       "    .dataframe tbody tr th:only-of-type {\n",
       "        vertical-align: middle;\n",
       "    }\n",
       "\n",
       "    .dataframe tbody tr th {\n",
       "        vertical-align: top;\n",
       "    }\n",
       "\n",
       "    .dataframe thead th {\n",
       "        text-align: right;\n",
       "    }\n",
       "</style>\n",
       "<table border=\"1\" class=\"dataframe\">\n",
       "  <thead>\n",
       "    <tr style=\"text-align: right;\">\n",
       "      <th></th>\n",
       "      <th>cap-diameter</th>\n",
       "      <th>stem-height</th>\n",
       "      <th>stem-width</th>\n",
       "    </tr>\n",
       "  </thead>\n",
       "  <tbody>\n",
       "    <tr>\n",
       "      <th>cap-diameter</th>\n",
       "      <td>1.00000</td>\n",
       "      <td>0.422560</td>\n",
       "      <td>0.695330</td>\n",
       "    </tr>\n",
       "    <tr>\n",
       "      <th>stem-height</th>\n",
       "      <td>0.42256</td>\n",
       "      <td>1.000000</td>\n",
       "      <td>0.436117</td>\n",
       "    </tr>\n",
       "    <tr>\n",
       "      <th>stem-width</th>\n",
       "      <td>0.69533</td>\n",
       "      <td>0.436117</td>\n",
       "      <td>1.000000</td>\n",
       "    </tr>\n",
       "  </tbody>\n",
       "</table>\n",
       "</div>"
      ],
      "text/plain": [
       "              cap-diameter  stem-height  stem-width\n",
       "cap-diameter       1.00000     0.422560    0.695330\n",
       "stem-height        0.42256     1.000000    0.436117\n",
       "stem-width         0.69533     0.436117    1.000000"
      ]
     },
     "execution_count": 25,
     "metadata": {},
     "output_type": "execute_result"
    }
   ],
   "source": [
    "pearson = X[['cap-diameter', 'stem-height', 'stem-width']].corr(method='pearson', min_periods=1, numeric_only=False)\n",
    "pearson"
   ]
  },
  {
   "cell_type": "code",
   "execution_count": 26,
   "id": "960cfc45-a521-44ea-9699-17c22fdbe3e0",
   "metadata": {},
   "outputs": [
    {
     "data": {
      "image/png": "[encoded data removed]",
      "text/plain": [
       "<Figure size 640x480 with 2 Axes>"
      ]
     },
     "metadata": {},
     "output_type": "display_data"
    },
    {
     "data": {
      "text/plain": [
       "<Figure size 600x400 with 0 Axes>"
      ]
     },
     "metadata": {},
     "output_type": "display_data"
    }
   ],
   "source": [
    "import matplotlib.pyplot as plt\n",
    "plt.imshow(pearson, cmap =\"RdYlBu\") \n",
    "plt.colorbar() \n",
    "plt.xticks(range(len(pearson)), pearson.columns,rotation=90) \n",
    "plt.yticks(range(len(pearson)), pearson.index) \n",
    "plt.figure(figsize=(6,4))\n",
    "plt.show()"
   ]
  },
  {
   "cell_type": "code",
   "execution_count": 6,
   "id": "b2e05f47-cf9f-4476-ada3-049bd016dc76",
   "metadata": {},
   "outputs": [],
   "source": [
    "from sklearn.model_selection import train_test_split, StratifiedKFold, GridSearchCV\n",
    "from sklearn.compose import ColumnTransformer\n",
    "from sklearn.pipeline import Pipeline, make_pipeline\n",
    "from sklearn.impute import SimpleImputer\n",
    "from sklearn.preprocessing import OneHotEncoder, StandardScaler\n",
    "from sklearn.linear_model import LogisticRegression\n",
    "from sklearn.svm import SVC\n",
    "from sklearn.ensemble import RandomForestClassifier\n",
    "from sklearn.neighbors import KNeighborsClassifier"
   ]
  },
  {
   "cell_type": "code",
   "execution_count": 23,
   "id": "a050e243-28a8-43e1-8a00-2bdb38d5617a",
   "metadata": {},
   "outputs": [],
   "source": [
    "def SVC_pipeline_kfold(X, y):\n",
    "    test_scores = []\n",
    "    best_models = []\n",
    "    # create the pipeline: preprocessor + supervised ML method\n",
    "    cat_ftrs = X.drop(columns=['cap-diameter', 'stem-height', 'stem-width']).columns\n",
    "    num_ftrs=['cap-diameter', 'stem-height', 'stem-width']\n",
    "        \n",
    "    categorical_transformer = Pipeline(steps=[\n",
    "        ('imputer', SimpleImputer(strategy='constant',fill_value='missing')),\n",
    "        ('onehot', OneHotEncoder(sparse_output=False,handle_unknown='ignore'))])\n",
    "    numeric_transformer = Pipeline(steps=[('scaler', StandardScaler())])\n",
    "        \n",
    "    preprocessor = ColumnTransformer(\n",
    "            transformers=[\n",
    "                ('num', numeric_transformer, num_ftrs),\n",
    "                ('cat', categorical_transformer, cat_ftrs)])\n",
    "    pipe = make_pipeline(preprocessor, SVC())\n",
    "    # the parameter(s) we want to tune\n",
    "    param_grid = {'svc__C': [0.01, 0.1, 1, 10, 100],\n",
    "                      'svc__gamma': [0.01, 0.1, 1, 10, 100]}\n",
    "    for i in range(10):\n",
    "        random_state = 2*i\n",
    "        n_folds = 4\n",
    "        # create a test set\n",
    "        X_other, X_test, y_other, y_test = train_test_split(X, y, test_size=0.2, random_state = random_state)\n",
    "        # splitter for _other\n",
    "        kf = StratifiedKFold(n_splits=n_folds,shuffle=True,random_state=random_state)\n",
    "       \n",
    "        # prepare gridsearch\n",
    "        grid = GridSearchCV(pipe, param_grid=param_grid, cv=kf, scoring='accuracy', n_jobs=-1)\n",
    "        # do kfold CV on _other\n",
    "        grid.fit(X_other, y_other)\n",
    "        test_scores.append(grid.score(X_test, y_test))\n",
    "        best_models.append(grid.best_estimator_)\n",
    "    return grid, X_test, y_test, test_scores, best_models"
   ]
  },
  {
   "cell_type": "code",
   "execution_count": 26,
   "id": "0403788c-3158-4c12-8f77-42c0eb9673b0",
   "metadata": {},
   "outputs": [
    {
     "name": "stdout",
     "output_type": "stream",
     "text": [
      "mean of the test scores: 0.990444346\n",
      "standard deviation of the test scores: 0.002100800391323259\n"
     ]
    }
   ],
   "source": [
    "model1, X_test1, y_test1, test_scores1, best_models1 = SVC_pipeline_kfold(X, y)\n",
    "mean1=np.mean(test_scores1)\n",
    "std1=np.std(test_scores1)\n",
    "print('mean of the test scores:', mean1)\n",
    "print('standard deviation of the test scores:', std1)"
   ]
  },
  {
   "cell_type": "code",
   "execution_count": 40,
   "id": "09e01f8c-800e-4e97-a4f0-1726b45937a3",
   "metadata": {},
   "outputs": [],
   "source": [
    "def RandomForest_pipeline_kfold(X, y):\n",
    "    test_scores = []\n",
    "    best_models = []\n",
    "    # create the pipeline: preprocessor + supervised ML method\n",
    "    cat_ftrs = X.drop(columns=['cap-diameter', 'stem-height', 'stem-width']).columns\n",
    "    num_ftrs=['cap-diameter', 'stem-height', 'stem-width']\n",
    "    \n",
    "    categorical_transformer = Pipeline(steps=[\n",
    "    ('imputer', SimpleImputer(strategy='constant',fill_value='missing')),\n",
    "    ('onehot', OneHotEncoder(sparse_output=False,handle_unknown='ignore'))])\n",
    "    numeric_transformer = Pipeline(steps=[('scaler', StandardScaler())])\n",
    "    \n",
    "    preprocessor = ColumnTransformer(\n",
    "        transformers=[\n",
    "            ('num', numeric_transformer, num_ftrs),\n",
    "            ('cat', categorical_transformer, cat_ftrs)])\n",
    "    pipe = make_pipeline(preprocessor,RandomForestClassifier())\n",
    "    # the parameter(s) we want to tune\n",
    "    param_grid = {\n",
    "                  'randomforestclassifier__max_depth': [1, 10, 30, 100, 300], \n",
    "                  'randomforestclassifier__max_features': [0.25, 0.5, 0.75, 1]\n",
    "                  } \n",
    "    \n",
    "    for i in range(10):\n",
    "        random_state = 2*i\n",
    "        n_folds = 4\n",
    "        # create a test set\n",
    "        X_other, X_test, y_other, y_test = train_test_split(X, y, test_size=0.2, random_state = random_state)\n",
    "        # splitter for _other\n",
    "        kf = StratifiedKFold(n_splits=n_folds,shuffle=True,random_state=random_state)\n",
    "        \n",
    "        # prepare gridsearch\n",
    "        grid = GridSearchCV(pipe, param_grid=param_grid, cv=kf, scoring='accuracy', n_jobs=-1)\n",
    "        # do kfold CV on _other\n",
    "        grid.fit(X_other, y_other)\n",
    "        test_scores.append(grid.score(X_test, y_test))\n",
    "        best_models.append(grid.best_estimator_)\n",
    "    return grid, X_test, y_test, test_scores, best_models"
   ]
  },
  {
   "cell_type": "code",
   "execution_count": 22,
   "id": "5b253c5a-cded-4405-b7ed-696f03ca1939",
   "metadata": {},
   "outputs": [
    {
     "name": "stdout",
     "output_type": "stream",
     "text": [
      "mean of the test scores: 1.0\n",
      "standard deviation of the test scores: 0.0\n"
     ]
    }
   ],
   "source": [
    "model2, X_test2, y_test2, test_scores2, best_models2 = RandomForest_pipeline_kfold(X, y)\n",
    "mean2=np.mean(test_scores2)\n",
    "std2=np.std(test_scores2)\n",
    "print('mean of the test scores:', mean2)\n",
    "print('standard deviation of the test scores:', std2)"
   ]
  },
  {
   "cell_type": "code",
   "execution_count": 42,
   "id": "1e2e309c-96d7-4a60-ba38-2e3d7b3f30d5",
   "metadata": {},
   "outputs": [
    {
     "data": {
      "text/plain": [
       "[Pipeline(steps=[('columntransformer',\n",
       "                  ColumnTransformer(transformers=[('num',\n",
       "                                                   Pipeline(steps=[('scaler',\n",
       "                                                                    StandardScaler())]),\n",
       "                                                   ['cap-diameter',\n",
       "                                                    'stem-height',\n",
       "                                                    'stem-width']),\n",
       "                                                  ('cat',\n",
       "                                                   Pipeline(steps=[('imputer',\n",
       "                                                                    SimpleImputer(fill_value='missing',\n",
       "                                                                                  strategy='constant')),\n",
       "                                                                   ('onehot',\n",
       "                                                                    OneHotEncoder(handle_unknown='ignore',\n",
       "                                                                                  sparse_output=False))]),\n",
       "                                                   Index(['cap-shape', 'cap-surface', 'cap-color', 'does-bruise-or-bleed',\n",
       "        'gill-attachment', 'gill-spacing', 'gill-color', 'stem-root',\n",
       "        'stem-surface', 'stem-color', 'veil-type', 'veil-color', 'has-ring',\n",
       "        'ring-type', 'spore-print-color', 'habitat', 'season'],\n",
       "       dtype='object'))])),\n",
       "                 ('randomforestclassifier',\n",
       "                  RandomForestClassifier(max_depth=30, max_features=0.3))])]"
      ]
     },
     "execution_count": 42,
     "metadata": {},
     "output_type": "execute_result"
    }
   ],
   "source": [
    "best_models2"
   ]
  },
  {
   "cell_type": "code",
   "execution_count": 23,
   "id": "d6ed4fb9-75a1-4e75-a52e-1408f4499fe8",
   "metadata": {},
   "outputs": [],
   "source": [
    "from sklearn.model_selection import train_test_split, StratifiedKFold, GridSearchCV\n",
    "from sklearn.compose import ColumnTransformer\n",
    "from sklearn.pipeline import Pipeline, make_pipeline\n",
    "from sklearn.impute import SimpleImputer\n",
    "from sklearn.preprocessing import OneHotEncoder, StandardScaler\n",
    "from sklearn.linear_model import LogisticRegression\n",
    "\n",
    "def logistic_regression_pipeline_kfold(X, y):\n",
    "    test_scores = []\n",
    "    best_models = []\n",
    "    # create the pipeline: preprocessor + logistic regression\n",
    "    cat_ftrs = X.drop(columns=['cap-diameter', 'stem-height', 'stem-width']).columns\n",
    "    num_ftrs = ['cap-diameter', 'stem-height', 'stem-width']\n",
    "    \n",
    "    categorical_transformer = Pipeline(steps=[\n",
    "        ('imputer', SimpleImputer(strategy='constant', fill_value='missing')),\n",
    "        ('onehot', OneHotEncoder(sparse_output=False, handle_unknown='ignore'))])\n",
    "    numeric_transformer = Pipeline(steps=[('scaler', StandardScaler())])\n",
    "    \n",
    "    \n",
    "    preprocessor = ColumnTransformer(\n",
    "        transformers=[\n",
    "            ('num', numeric_transformer, num_ftrs),\n",
    "            ('cat', categorical_transformer, cat_ftrs)])\n",
    "    pipe = make_pipeline(preprocessor, LogisticRegression(penalty='elasticnet', solver='saga', max_iter=1000))\n",
    "    \n",
    "    # parameter tuning\n",
    "    param_grid = {'logisticregression__C': [0.01, 0.1, 1, 10, 100],\n",
    "                  'logisticregression__l1_ratio':[0.25, 0.5, 0.75, 1]\n",
    "                 }\n",
    "    \n",
    "    for i in range(10):\n",
    "        random_state = 2*i\n",
    "        n_folds = 4\n",
    "        # create a test set\n",
    "        X_other, X_test, y_other, y_test = train_test_split(X, y, test_size=0.2, random_state=random_state)\n",
    "        # splitter for _other\n",
    "        kf = StratifiedKFold(n_splits=n_folds, shuffle=True, random_state=random_state)\n",
    "       \n",
    "        grid = GridSearchCV(pipe, param_grid=param_grid, cv=kf, scoring='accuracy', n_jobs=-1)\n",
    "        \n",
    "        # do kfold CV on _other\n",
    "        grid.fit(X_other, y_other)\n",
    "        test_scores.append(grid.score(X_test, y_test))\n",
    "        best_models.append(grid.best_estimator_)\n",
    "    return grid, X_test, y_test, test_scores, best_models"
   ]
  },
  {
   "cell_type": "code",
   "execution_count": null,
   "id": "67a69f0a-a11a-4f72-b73c-2cb9bb91db79",
   "metadata": {},
   "outputs": [],
   "source": [
    "model3, X_test3, y_test3, test_scores3, best_models3 = logistic_regression_pipeline_kfold(X, y)\n",
    "mean3=np.mean(test_scores3)\n",
    "std3=np.std(test_scores3)\n",
    "print('mean of the test scores:', mean3)\n",
    "print('standard deviation of the test scores:', std3)"
   ]
  },
  {
   "cell_type": "code",
   "execution_count": 11,
   "id": "65ce2c74-9f1b-4f90-94c5-35554ac5c7fd",
   "metadata": {},
   "outputs": [],
   "source": [
    "from sklearn.model_selection import train_test_split, StratifiedKFold, GridSearchCV\n",
    "from sklearn.compose import ColumnTransformer\n",
    "from sklearn.pipeline import Pipeline, make_pipeline\n",
    "from sklearn.impute import SimpleImputer\n",
    "from sklearn.preprocessing import OneHotEncoder, StandardScaler\n",
    "from sklearn.neighbors import KNeighborsClassifier\n",
    "\n",
    "def knn_pipeline_kfold(X, y):\n",
    "    test_scores = []\n",
    "    best_models = []\n",
    "    # create the pipeline: preprocessor + KNN\n",
    "    cat_ftrs = X.drop(columns=['cap-diameter', 'stem-height', 'stem-width']).columns\n",
    "    num_ftrs = ['cap-diameter', 'stem-height', 'stem-width']\n",
    "    \n",
    "    categorical_transformer = Pipeline(steps=[\n",
    "        ('imputer', SimpleImputer(strategy='constant', fill_value='missing')),\n",
    "        ('onehot', OneHotEncoder(sparse_output=False, handle_unknown='ignore'))])\n",
    "    numeric_transformer = Pipeline(steps=[('scaler', StandardScaler())])\n",
    "    \n",
    "    preprocessor = ColumnTransformer(\n",
    "        transformers=[\n",
    "            ('num', numeric_transformer, num_ftrs),\n",
    "            ('cat', categorical_transformer, cat_ftrs)])\n",
    "    pipe = make_pipeline(preprocessor, KNeighborsClassifier())\n",
    "    \n",
    "    # parameter tuning\n",
    "    param_grid = {'kneighborsclassifier__n_neighbors': [3, 5, 7, 9, 11],\n",
    "                  'kneighborsclassifier__weights': ['uniform', 'distance']}\n",
    "    \n",
    "    for i in range(10):\n",
    "        random_state = 2*i\n",
    "        n_folds = 4\n",
    "        # create a test set\n",
    "        X_other, X_test, y_other, y_test = train_test_split(X, y, test_size=0.2, random_state=random_state)\n",
    "        # splitter for _other\n",
    "        kf = StratifiedKFold(n_splits=n_folds, shuffle=True, random_state=random_state)\n",
    "        \n",
    "        grid = GridSearchCV(pipe, param_grid=param_grid, cv=kf, scoring='accuracy', n_jobs=-1)\n",
    "        \n",
    "        # do kfold CV on _other\n",
    "        grid.fit(X_other, y_other)\n",
    "        test_scores.append(grid.score(X_test, y_test))\n",
    "        best_models.append(grid.best_estimator_)\n",
    "    return grid, X_test, y_test, test_scores, best_models"
   ]
  },
  {
   "cell_type": "code",
   "execution_count": 12,
   "id": "a86db6d1-2e4f-455e-92ce-5c0351cca497",
   "metadata": {},
   "outputs": [
    {
     "name": "stdout",
     "output_type": "stream",
     "text": [
      "mean of the test scores: 1.0\n",
      "standard deviation of the test scores: 0.0\n"
     ]
    }
   ],
   "source": [
    "model4, X_test4, y_test4, test_scores4, best_models4 = knn_pipeline_kfold(X, y)\n",
    "mean4=np.mean(test_scores4)\n",
    "std4=np.std(test_scores4)\n",
    "print('mean of the test scores:', mean4)\n",
    "print('standard deviation of the test scores:', std4)"
   ]
  },
  {
   "cell_type": "code",
   "execution_count": 34,
   "id": "c91bf287-3fd7-4460-a2c6-2a21dbf68c4d",
   "metadata": {},
   "outputs": [],
   "source": [
    "from sklearn.metrics import confusion_matrix\n",
    "from sklearn.metrics import ConfusionMatrixDisplay\n",
    "\n",
    "y_pred = model4.predict(X_test4)\n",
    "cm = confusion_matrix(y_test4,y_pred)\n",
    "disp = ConfusionMatrixDisplay(cm,display_labels=['poisonous', 'edible'])\n",
    "fig, ax = plt.subplots(figsize=(5,3))\n",
    "disp.plot(ax=ax)\n",
    "plt.tight_layout()\n",
    "plt.savefig('cm.png', dpi=300)\n",
    "plt.close()"
   ]
  },
  {
   "cell_type": "code",
   "execution_count": 20,
   "id": "4d85661e-d0ee-4970-b7a8-53a46018fa44",
   "metadata": {},
   "outputs": [
    {
     "name": "stdout",
     "output_type": "stream",
     "text": [
      "mean of the test scores: 1.0\n",
      "standard deviation of the test scores: 0.0\n"
     ]
    }
   ],
   "source": [
    "mean4=np.mean(test_scores4)\n",
    "std4=np.std(test_scores4)\n",
    "print('mean of the test scores:', mean4)\n",
    "print('standard deviation of the test scores:', std4)"
   ]
  },
  {
   "cell_type": "code",
   "execution_count": 52,
   "id": "9e47ea5f-3fe3-465d-9da2-ca309ad2881d",
   "metadata": {},
   "outputs": [
    {
     "name": "stdout",
     "output_type": "stream",
     "text": [
      "[Pipeline(steps=[('columntransformer',\n",
      "                 ColumnTransformer(transformers=[('num',\n",
      "                                                  Pipeline(steps=[('scaler',\n",
      "                                                                   StandardScaler())]),\n",
      "                                                  ['cap-diameter',\n",
      "                                                   'stem-height',\n",
      "                                                   'stem-width']),\n",
      "                                                 ('cat',\n",
      "                                                  Pipeline(steps=[('imputer',\n",
      "                                                                   SimpleImputer(fill_value='missing',\n",
      "                                                                                 strategy='constant')),\n",
      "                                                                  ('onehot',\n",
      "                                                                   OneHotEncoder(handle_unknown='ignore',\n",
      "                                                                                 sparse_output=False))]),\n",
      "                                                  Index(['cap-shape', 'cap-surface', 'cap-color', 'does-bruise-or-bleed',\n",
      "       'gill-attachment', 'gill-spacing', 'gill-color', 'stem-root',\n",
      "       'stem-surface', 'stem-color', 'veil-type', 'veil-color', 'has-ring',\n",
      "       'ring-type', 'spore-print-color', 'habitat', 'season'],\n",
      "      dtype='object'))])),\n",
      "                ('kneighborsclassifier',\n",
      "                 KNeighborsClassifier(n_neighbors=10, weights='distance'))])]\n"
     ]
    }
   ],
   "source": [
    "print(best_models4)"
   ]
  },
  {
   "cell_type": "code",
   "execution_count": 29,
   "id": "703c975a-83f5-435e-bde6-e75c3eca0a4a",
   "metadata": {},
   "outputs": [
    {
     "name": "stdout",
     "output_type": "stream",
     "text": [
      "test baseline =  0.5659079744555429\n"
     ]
    }
   ],
   "source": [
    "baseline4 = np.sum(y_test4 == 'p')/len(y_test4)\n",
    "print('test baseline = ', baseline4)"
   ]
  },
  {
   "cell_type": "code",
   "execution_count": 29,
   "id": "1bcb5152-33ed-41fd-b00b-e84ebdc251c7",
   "metadata": {},
   "outputs": [],
   "source": [
    "import matplotlib.pyplot as plt\n",
    "import numpy as np\n",
    "\n",
    "scores = [test_scores1, test_scores2, test_scores3, test_scores4]\n",
    "\n",
    "plt.figure(figsize=(10, 6))\n",
    "plt.boxplot(scores, vert=True, patch_artist=True)\n",
    "plt.title('Boxplot of Different Test Scores')\n",
    "plt.ylabel('Scores')\n",
    "plt.xticks([1, 2, 3, 4], ['SVC', 'Random Forest', 'Logistic Regression', 'KNeighbors'])\n",
    "plt.axhline(y=baseline4, color='r', linestyle='--', label=f'Baseline Score: {baseline4}')\n",
    "plt.legend()\n",
    "plt.savefig('score.png', dpi=300)\n",
    "plt.close()"
   ]
  },
  {
   "cell_type": "code",
   "execution_count": 6,
   "id": "eec4d5a2-70b2-4d27-b167-1ecf4f85483d",
   "metadata": {},
   "outputs": [],
   "source": [
    "# create the pipeline: preprocessor + KNN\n",
    "cat_ftrs = X.drop(columns=['cap-diameter', 'stem-height', 'stem-width']).columns\n",
    "num_ftrs = ['cap-diameter', 'stem-height', 'stem-width']\n",
    "    \n",
    "categorical_transformer = Pipeline(steps=[\n",
    "        ('imputer', SimpleImputer(strategy='constant', fill_value='missing')),\n",
    "        ('onehot', OneHotEncoder(sparse_output=False, handle_unknown='ignore'))])\n",
    "numeric_transformer = Pipeline(steps=[('scaler', StandardScaler())])\n",
    "    \n",
    "preprocessor = ColumnTransformer(\n",
    "        transformers=[\n",
    "            ('num', numeric_transformer, num_ftrs),\n",
    "            ('cat', categorical_transformer, cat_ftrs)])\n",
    "\n",
    "X_prep = preprocessor.fit_transform(X)\n",
    "# little hacky, but collect feature names\n",
    "feature_names = preprocessor.get_feature_names_out()\n"
   ]
  },
  {
   "cell_type": "code",
   "execution_count": 36,
   "id": "9d6e9d1a-5d30-4d3c-9444-286ad61712f7",
   "metadata": {},
   "outputs": [],
   "source": [
    "from sklearn.metrics import accuracy_score\n",
    "from sklearn.utils import resample\n",
    "X_other, X_test, y_other, y_test = train_test_split(X, y, test_size=0.2, random_state=0)\n",
    "X_train, X_CV, y_train, y_CV = train_test_split(X_other, y_other, test_size=0.25, random_state=0)\n",
    "\n",
    "X_prep = preprocessor.fit_transform(X_train)\n",
    "feature_names = preprocessor.get_feature_names_out()\n",
    "df_train = pd.DataFrame(data=X_prep,columns=feature_names)\n",
    "\n",
    "# transform the CV\n",
    "df_CV = preprocessor.transform(X_CV)\n",
    "df_CV = pd.DataFrame(data=df_CV,columns = feature_names)\n",
    "df_test = preprocessor.transform(X_test)\n",
    "df_test = pd.DataFrame(data=df_test,columns = feature_names)\n",
    "knn = KNeighborsClassifier(n_neighbors = 3, weights = 'distance')\n",
    "knn.fit(df_train,y_train)\n",
    "np.random.seed(42)\n",
    "\n",
    "nr_runs = 6\n",
    "scores = np.zeros([len(feature_names),nr_runs])\n",
    "\n",
    "test_score = 1\n",
    "\n",
    "df_test_sample, y_test_sample = resample(df_test, y_test, n_samples=1000)\n",
    "# loop through the features\n",
    "for i in range(len(feature_names)):\n",
    "    acc_scores = []\n",
    "    for j in range(nr_runs):\n",
    "        X_test_shuffled = df_test_sample.copy()\n",
    "        X_test_shuffled[feature_names[i]] = np.random.permutation(df_test_sample[feature_names[i]].values)\n",
    "        y_test_pred_shuffled = knn.predict(X_test_shuffled)\n",
    "        acc_scores.append(accuracy_score(y_test_sample,y_test_pred_shuffled))\n",
    "    scores[i] = acc_scores"
   ]
  },
  {
   "cell_type": "code",
   "execution_count": 39,
   "id": "7fe8cf3b-5b38-4e66-ab14-7222325abf13",
   "metadata": {},
   "outputs": [],
   "source": [
    "import matplotlib.pylab as plt\n",
    "sorted_indcs = np.argsort(np.mean(scores,axis=1))[:10][::-1]\n",
    "plt.rcParams.update({'font.size': 11})\n",
    "plt.figure(figsize=(10,6))\n",
    "plt.boxplot(scores[sorted_indcs].T,labels=feature_names[sorted_indcs],vert=False)\n",
    "plt.axvline(test_score,label='test score')\n",
    "plt.title(\"Perturbation Importances (test set)\")\n",
    "plt.xlabel('score with perturbed feature')\n",
    "plt.legend()\n",
    "plt.tight_layout()\n",
    "plt.savefig('perturbation.png', dpi=300)\n",
    "plt.close()"
   ]
  },
  {
   "cell_type": "code",
   "execution_count": 9,
   "id": "01362f8e-41b7-460a-ae99-addc11bb0b03",
   "metadata": {},
   "outputs": [
    {
     "data": {
      "text/html": [
       "<style>#sk-container-id-1 {color: black;}#sk-container-id-1 pre{padding: 0;}#sk-container-id-1 div.sk-toggleable {background-color: white;}#sk-container-id-1 label.sk-toggleable__label {cursor: pointer;display: block;width: 100%;margin-bottom: 0;padding: 0.3em;box-sizing: border-box;text-align: center;}#sk-container-id-1 label.sk-toggleable__label-arrow:before {content: \"▸\";float: left;margin-right: 0.25em;color: #696969;}#sk-container-id-1 label.sk-toggleable__label-arrow:hover:before {color: black;}#sk-container-id-1 div.sk-estimator:hover label.sk-toggleable__label-arrow:before {color: black;}#sk-container-id-1 div.sk-toggleable__content {max-height: 0;max-width: 0;overflow: hidden;text-align: left;background-color: #f0f8ff;}#sk-container-id-1 div.sk-toggleable__content pre {margin: 0.2em;color: black;border-radius: 0.25em;background-color: #f0f8ff;}#sk-container-id-1 input.sk-toggleable__control:checked~div.sk-toggleable__content {max-height: 200px;max-width: 100%;overflow: auto;}#sk-container-id-1 input.sk-toggleable__control:checked~label.sk-toggleable__label-arrow:before {content: \"▾\";}#sk-container-id-1 div.sk-estimator input.sk-toggleable__control:checked~label.sk-toggleable__label {background-color: #d4ebff;}#sk-container-id-1 div.sk-label input.sk-toggleable__control:checked~label.sk-toggleable__label {background-color: #d4ebff;}#sk-container-id-1 input.sk-hidden--visually {border: 0;clip: rect(1px 1px 1px 1px);clip: rect(1px, 1px, 1px, 1px);height: 1px;margin: -1px;overflow: hidden;padding: 0;position: absolute;width: 1px;}#sk-container-id-1 div.sk-estimator {font-family: monospace;background-color: #f0f8ff;border: 1px dotted black;border-radius: 0.25em;box-sizing: border-box;margin-bottom: 0.5em;}#sk-container-id-1 div.sk-estimator:hover {background-color: #d4ebff;}#sk-container-id-1 div.sk-parallel-item::after {content: \"\";width: 100%;border-bottom: 1px solid gray;flex-grow: 1;}#sk-container-id-1 div.sk-label:hover label.sk-toggleable__label {background-color: #d4ebff;}#sk-container-id-1 div.sk-serial::before {content: \"\";position: absolute;border-left: 1px solid gray;box-sizing: border-box;top: 0;bottom: 0;left: 50%;z-index: 0;}#sk-container-id-1 div.sk-serial {display: flex;flex-direction: column;align-items: center;background-color: white;padding-right: 0.2em;padding-left: 0.2em;position: relative;}#sk-container-id-1 div.sk-item {position: relative;z-index: 1;}#sk-container-id-1 div.sk-parallel {display: flex;align-items: stretch;justify-content: center;background-color: white;position: relative;}#sk-container-id-1 div.sk-item::before, #sk-container-id-1 div.sk-parallel-item::before {content: \"\";position: absolute;border-left: 1px solid gray;box-sizing: border-box;top: 0;bottom: 0;left: 50%;z-index: -1;}#sk-container-id-1 div.sk-parallel-item {display: flex;flex-direction: column;z-index: 1;position: relative;background-color: white;}#sk-container-id-1 div.sk-parallel-item:first-child::after {align-self: flex-end;width: 50%;}#sk-container-id-1 div.sk-parallel-item:last-child::after {align-self: flex-start;width: 50%;}#sk-container-id-1 div.sk-parallel-item:only-child::after {width: 0;}#sk-container-id-1 div.sk-dashed-wrapped {border: 1px dashed gray;margin: 0 0.4em 0.5em 0.4em;box-sizing: border-box;padding-bottom: 0.4em;background-color: white;}#sk-container-id-1 div.sk-label label {font-family: monospace;font-weight: bold;display: inline-block;line-height: 1.2em;}#sk-container-id-1 div.sk-label-container {text-align: center;}#sk-container-id-1 div.sk-container {/* jupyter's `normalize.less` sets `[hidden] { display: none; }` but bootstrap.min.css set `[hidden] { display: none !important; }` so we also need the `!important` here to be able to override the default hidden behavior on the sphinx rendered scikit-learn.org. See: https://github.com/scikit-learn/scikit-learn/issues/21755 */display: inline-block !important;position: relative;}#sk-container-id-1 div.sk-text-repr-fallback {display: none;}</style><div id=\"sk-container-id-1\" class=\"sk-top-container\"><div class=\"sk-text-repr-fallback\"><pre>KNeighborsClassifier(n_neighbors=3, weights=&#x27;distance&#x27;)</pre><b>In a Jupyter environment, please rerun this cell to show the HTML representation or trust the notebook. <br />On GitHub, the HTML representation is unable to render, please try loading this page with nbviewer.org.</b></div><div class=\"sk-container\" hidden><div class=\"sk-item\"><div class=\"sk-estimator sk-toggleable\"><input class=\"sk-toggleable__control sk-hidden--visually\" id=\"sk-estimator-id-1\" type=\"checkbox\" checked><label for=\"sk-estimator-id-1\" class=\"sk-toggleable__label sk-toggleable__label-arrow\">KNeighborsClassifier</label><div class=\"sk-toggleable__content\"><pre>KNeighborsClassifier(n_neighbors=3, weights=&#x27;distance&#x27;)</pre></div></div></div></div></div>"
      ],
      "text/plain": [
       "KNeighborsClassifier(n_neighbors=3, weights='distance')"
      ]
     },
     "execution_count": 9,
     "metadata": {},
     "output_type": "execute_result"
    }
   ],
   "source": [
    "from sklearn.model_selection import train_test_split, StratifiedKFold, GridSearchCV\n",
    "from sklearn.compose import ColumnTransformer\n",
    "from sklearn.pipeline import Pipeline, make_pipeline\n",
    "from sklearn.impute import SimpleImputer\n",
    "from sklearn.preprocessing import OneHotEncoder, StandardScaler\n",
    "from sklearn.neighbors import KNeighborsClassifier\n",
    "X_other, X_test, y_other, y_test = train_test_split(X, y, test_size=0.2, random_state=0)\n",
    "X_train, X_CV, y_train, y_CV = train_test_split(X_other, y_other, test_size=0.25, random_state=0)\n",
    "\n",
    "X_prep = preprocessor.fit_transform(X_train)\n",
    "feature_names = preprocessor.get_feature_names_out()\n",
    "df_train = pd.DataFrame(data=X_prep,columns=feature_names)\n",
    "\n",
    "# transform the CV\n",
    "df_CV = preprocessor.transform(X_CV)\n",
    "df_CV = pd.DataFrame(data=df_CV,columns = feature_names)\n",
    "df_test = preprocessor.transform(X_test)\n",
    "df_test = pd.DataFrame(data=df_test,columns = feature_names)\n",
    "knn = KNeighborsClassifier(n_neighbors = 3, weights = 'distance')\n",
    "knn.fit(df_train,y_train)"
   ]
  },
  {
   "cell_type": "code",
   "execution_count": null,
   "id": "07f3e685-e3c4-49b4-a836-fc11b3a1cd73",
   "metadata": {},
   "outputs": [],
   "source": [
    "import shap\n",
    "\n",
    "background = shap.sample(df_train, 100)  \n",
    "\n",
    "explainer = shap.KernelExplainer(knn.predict_proba, background)\n",
    "\n",
    "sample_indices = np.random.choice(df_test.index, 10, replace=False)  \n",
    "X_test_sample = df_test.loc[sample_indices]\n",
    "\n",
    "shap_values = explainer.shap_values(X_test_sample)\n",
    "\n",
    "shap_summary = np.sum(np.abs(shap_values[1]),axis=0)+np.sum(np.abs(shap_values[0]),axis=0)\n",
    "indcs = np.argsort(shap_summary)\n",
    "shap_summary[indcs]\n",
    "plt.figure(figsize=(6,4))\n",
    "plt.barh(feature_names[indcs[-10:]],shap_summary[indcs[-10:]])\n",
    "plt.xlabel('mean(|SHAP value|)')\n",
    "plt.title('feature importance by shap')\n",
    "plt.show()"
   ]
  },
  {
   "cell_type": "code",
   "execution_count": 21,
   "id": "e524eaaf-5f5d-4843-a901-55e1497aafb2",
   "metadata": {},
   "outputs": [],
   "source": [
    "shap_summary = np.sum(np.abs(shap_values[1]),axis=0)+np.sum(np.abs(shap_values[0]),axis=0)\n",
    "indcs = np.argsort(shap_summary)\n",
    "shap_summary[indcs]\n",
    "plt.figure(figsize=(12,6))\n",
    "plt.barh(feature_names[indcs[-10:]],shap_summary[indcs[-10:]])\n",
    "plt.xlabel('mean(|SHAP value|)')\n",
    "plt.title('feature importance by shap')\n",
    "plt.savefig('shap.png', dpi=300)\n",
    "plt.close()"
   ]
  },
  {
   "cell_type": "code",
   "execution_count": 36,
   "id": "ba9f0f0e-3fed-4d93-b098-2b5144ccc4cf",
   "metadata": {},
   "outputs": [],
   "source": [
    "label_encoder = LabelEncoder()\n",
    "y_encoded = label_encoder.fit_transform(y_test)\n",
    "\n",
    "model = xgb.XGBClassifier()\n",
    "model.fit(df_test, y_encoded)\n",
    "\n",
    "feature_importance_weight = model.get_booster().get_score(importance_type='gain')"
   ]
  },
  {
   "cell_type": "code",
   "execution_count": 37,
   "id": "c91e4e80-4e11-4311-adcf-b6447f718f21",
   "metadata": {},
   "outputs": [],
   "source": [
    "indices = np.argsort(feature_importance)[::-1]\n",
    "top_10_indices = indices[:10][::-1]\n",
    "top_10_importances = feature_importance[top_10_indices]\n",
    "top_10_features = [feature_names[i] for i in top_10_indices]"
   ]
  },
  {
   "cell_type": "code",
   "execution_count": 39,
   "id": "fefe2d99-e475-41b4-9c3c-3079ba3b3209",
   "metadata": {},
   "outputs": [],
   "source": [
    "plt.figure(figsize=(12, 6))\n",
    "plt.barh(top_10_features, top_10_importances)\n",
    "plt.xlabel('Feature Importance')\n",
    "plt.ylabel('Features')\n",
    "plt.title('Top 10 Feature Importance')\n",
    "plt.savefig('xgboost',dpi=300)\n",
    "plt.close()"
   ]
  },
  {
   "cell_type": "code",
   "execution_count": 45,
   "id": "ebba235b-82c7-4fa9-ada2-359c2a66e181",
   "metadata": {},
   "outputs": [
    {
     "data": {
      "image/png": "[encoded data removed]",
      "text/plain": [
       "<Figure size 2000x300 with 1 Axes>"
      ]
     },
     "metadata": {},
     "output_type": "display_data"
    }
   ],
   "source": [
    "import shap\n",
    "explainer = shap.TreeExplainer(model)\n",
    "specific_data_points = df_test.iloc[[0, 100, 200]]\n",
    "specific_shap_values = explainer.shap_values(specific_data_points)\n",
    "# Create force plots for each data point\n",
    "shap.force_plot(explainer.expected_value, specific_shap_values[0,:], specific_data_points.iloc[0,:], matplotlib=True, link='identity')\n",
    "plt.savefig('local1',dpi=300)\n",
    "plt.close()"
   ]
  },
  {
   "cell_type": "code",
   "execution_count": 43,
   "id": "7edbd992-d67f-421a-9ee7-d1522ede3ce0",
   "metadata": {},
   "outputs": [
    {
     "data": {
      "image/png": "[encoded data removed]",
      "text/plain": [
       "<Figure size 2000x300 with 1 Axes>"
      ]
     },
     "metadata": {},
     "output_type": "display_data"
    }
   ],
   "source": [
    "shap.force_plot(explainer.expected_value, specific_shap_values[1,:], specific_data_points.iloc[1,:], matplotlib=True, link='identity')"
   ]
  },
  {
   "cell_type": "code",
   "execution_count": 44,
   "id": "963ee5a0-a028-497d-9a49-2ac3a0d8abda",
   "metadata": {},
   "outputs": [
    {
     "data": {
      "image/png": "[encoded data removed]",
      "text/plain": [
       "<Figure size 2000x300 with 1 Axes>"
      ]
     },
     "metadata": {},
     "output_type": "display_data"
    }
   ],
   "source": [
    "shap.force_plot(explainer.expected_value, specific_shap_values[2,:], specific_data_points.iloc[2,:], matplotlib=True, link='identity')"
   ]
  }
 ],
 "metadata": {
  "kernelspec": {
   "display_name": "Python 3 (ipykernel)",
   "language": "python",
   "name": "python3"
  },
  "language_info": {
   "codemirror_mode": {
    "name": "ipython",
    "version": 3
   },
   "file_extension": ".py",
   "mimetype": "text/x-python",
   "name": "python",
   "nbconvert_exporter": "python",
   "pygments_lexer": "ipython3",
   "version": "3.11.4"
  }
 },
 "nbformat": 4,
 "nbformat_minor": 5
}
